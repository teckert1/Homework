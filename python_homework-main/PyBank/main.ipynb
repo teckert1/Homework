{
 "cells": [
  {
   "cell_type": "code",
   "execution_count": 31,
   "metadata": {},
   "outputs": [
    {
     "name": "stdout",
     "output_type": "stream",
     "text": [
      "Financial Analysis\n",
      "----------------------------\n",
      "Total Months: 86\n",
      "Total: $38382578\n",
      "Average Change: -2315.12\n",
      "Greatest Increase in Profits: Feb-2012 ($1926159)\n",
      "Greatest Decrease in Profits: Sep-2013 ($-2196167)\n"
     ]
    }
   ],
   "source": [
    "# Import Dependencies\n",
    "import csv\n",
    "from pathlib import Path \n",
    "\n",
    "# Declare file location through pathlib\n",
    "csv_file = Path(\"budget_data.csv\")\n",
    "\n",
    "# Create new lists to iterate through specific rows for the following variables\n",
    "total_months = []\n",
    "total_profit = []\n",
    "profit_change = []\n",
    " \n",
    "with open(csv_file) as budget:\n",
    "\n",
    "    csvreader = csv.reader(budget,delimiter = \",\") \n",
    "\n",
    "    csv_header = next(csvreader)  \n",
    "\n",
    "\n",
    "    for row in csvreader: \n",
    "\n",
    "#The total number of months included in the dataset.\n",
    "        len(total_months)\n",
    "#The net total amount of Profit/Losses over the entire period.\n",
    "        sum(total_profit)\n",
    "\n",
    "        total_months.append(row[0])\n",
    "        total_profit.append(int(row[1]))\n",
    "        \n",
    "\n",
    "# The average of the changes in Profit/Losses over the entire period.\n",
    "for i in range(len(total_profit)-1):\n",
    "        \n",
    "# Take the difference between two months and append to monthly profit change\n",
    "   profit_change.append(total_profit[i+1]-total_profit[i])\n",
    "        \n",
    "# The greatest increase in profits (date and amount) over the entire period.\n",
    "# The greatest decrease in losses (date and amount) over the entire period.\n",
    " \n",
    "max_increase_profit = max(profit_change)\n",
    "max_decrease_profit = min(profit_change)\n",
    "\n",
    "# Correlate max and min to the proper month using month list and index from max and min\n",
    "max_increase_month = profit_change.index(max(profit_change)) + 1\n",
    "max_decrease_month = profit_change.index(min(profit_change)) + 1 \n",
    "\n",
    "# Print Statements\n",
    "\n",
    "print(\"Financial Analysis\")\n",
    "print(\"----------------------------\")\n",
    "print(f\"Total Months: {len(total_months)}\")\n",
    "print(f\"Total: ${sum(total_profit)}\")\n",
    "print(f\"Average Change: {round(sum(profit_change)/len(profit_change),2)}\")\n",
    "print(f\"Greatest Increase in Profits: {total_months[max_increase_month]} (${(str(max_increase_profit))})\")\n",
    "print(f\"Greatest Decrease in Profits: {total_months[max_decrease_month]} (${(str(max_decrease_profit))})\")\n",
    "\n",
    "# Output files\n",
    "output_file = Path(\"Financial_Analysis.txt\")\n",
    "\n",
    "with open(output_file,\"w\") as file:\n",
    "    \n",
    "# Write methods to print to Financial_Analysis.txt\n",
    "    file.write(\"Financial Analysis\")\n",
    "    file.write(\"\\n\")\n",
    "    file.write(\"----------------------------\")\n",
    "    file.write(\"\\n\")\n",
    "    file.write(f\"Total Months: {len(total_months)}\")\n",
    "    file.write(\"\\n\")\n",
    "    file.write(f\"Total: ${sum(total_profit)}\")\n",
    "    file.write(\"\\n\")\n",
    "    file.write(f\"Average Change: {round(sum(profit_change)/len(profit_change),2)}\")\n",
    "    file.write(\"\\n\")\n",
    "    file.write(f\"Greatest Increase in Profits: {total_months[max_increase_month]} (${(str(max_increase_value))})\")\n",
    "    file.write(\"\\n\")\n",
    "    file.write(f\"Greatest Decrease in Profits: {total_months[max_decrease_month]} (${(str(max_decrease_value))})\")"
   ]
  },
  {
   "cell_type": "code",
   "execution_count": null,
   "metadata": {},
   "outputs": [],
   "source": []
  },
  {
   "cell_type": "code",
   "execution_count": null,
   "metadata": {},
   "outputs": [],
   "source": []
  },
  {
   "cell_type": "code",
   "execution_count": null,
   "metadata": {},
   "outputs": [],
   "source": []
  }
 ],
 "metadata": {
  "kernelspec": {
   "display_name": "Python 3",
   "language": "python",
   "name": "python3"
  },
  "language_info": {
   "codemirror_mode": {
    "name": "ipython",
    "version": 3
   },
   "file_extension": ".py",
   "mimetype": "text/x-python",
   "name": "python",
   "nbconvert_exporter": "python",
   "pygments_lexer": "ipython3",
   "version": "3.8.3"
  }
 },
 "nbformat": 4,
 "nbformat_minor": 4
}
